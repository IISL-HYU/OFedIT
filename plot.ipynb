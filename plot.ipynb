{
 "cells": [
  {
   "cell_type": "code",
   "execution_count": 1,
   "metadata": {},
   "outputs": [
    {
     "ename": "ModuleNotFoundError",
     "evalue": "No module named 'matplotlib'",
     "output_type": "error",
     "traceback": [
      "\u001b[0;31m---------------------------------------------------------------------------\u001b[0m",
      "\u001b[0;31mModuleNotFoundError\u001b[0m                       Traceback (most recent call last)",
      "Input \u001b[0;32mIn [1]\u001b[0m, in \u001b[0;36m<module>\u001b[0;34m\u001b[0m\n\u001b[1;32m      1\u001b[0m \u001b[38;5;28;01mimport\u001b[39;00m \u001b[38;5;21;01mpickle\u001b[39;00m\n\u001b[0;32m----> 2\u001b[0m \u001b[38;5;28;01mimport\u001b[39;00m \u001b[38;5;21;01mmatplotlib\u001b[39;00m\u001b[38;5;21;01m.\u001b[39;00m\u001b[38;5;21;01mpyplot\u001b[39;00m \u001b[38;5;28;01mas\u001b[39;00m \u001b[38;5;21;01mplt\u001b[39;00m\n\u001b[1;32m      4\u001b[0m \u001b[38;5;28;01mwith\u001b[39;00m \u001b[38;5;28mopen\u001b[39m(\u001b[38;5;124m\"\u001b[39m\u001b[38;5;124m./Accuracy_lists/OFedAvg.pkl\u001b[39m\u001b[38;5;124m\"\u001b[39m,\u001b[38;5;124m\"\u001b[39m\u001b[38;5;124mrb\u001b[39m\u001b[38;5;124m\"\u001b[39m) \u001b[38;5;28;01mas\u001b[39;00m f:\n\u001b[1;32m      5\u001b[0m     accuracy_list \u001b[38;5;241m=\u001b[39m pickle\u001b[38;5;241m.\u001b[39mload(f)\n",
      "\u001b[0;31mModuleNotFoundError\u001b[0m: No module named 'matplotlib'"
     ]
    }
   ],
   "source": [
    "import pickle\n",
    "import matplotlib.pyplot as plt\n",
    "\n",
    "with open(\"./Accuracy_lists/OFedAvg.pkl\",\"rb\") as f:\n",
    "    accuracy_list = pickle.load(f)\n",
    "\n",
    "with open(\"./Accuracy_lists/OFedIT_L3_p1.0.pkl\",\"rb\") as f:\n",
    "    accuracy_list2 = pickle.load(f)\n",
    "\n",
    "with open(\"./Accuracy_lists/OFedIT_L3_p0.4.pkl\",\"rb\") as f:\n",
    "    accuracy_list3 = pickle.load(f)\n",
    "    \n",
    "with open(\"./Accuracy_lists/OFedIT_L3_p0.1.pkl\",\"rb\") as f:\n",
    "    accuracy_list4 = pickle.load(f)\n",
    "\n",
    "    \n",
    "t1 = list(range(len(accuracy_list)))\n",
    "t2 = list(range(len(accuracy_list2)))\n",
    "t3 = list(range(len(accuracy_list3)))\n",
    "t4 = list(range(len(accuracy_list4)))\n",
    "\n",
    "y1 = accuracy_list\n",
    "y2 = accuracy_list2\n",
    "y3 = accuracy_list3\n",
    "y4 = accuracy_list4\n",
    "\n",
    "# plotting the points\n",
    "plt.plot(t1, y1, 'black', label='OFedAvg')\n",
    "plt.plot(t2, y2, 'r-', label=r'OFedIT ($\\mathdefault{p=1}$, $\\mathdefault{L=3}$)')\n",
    "plt.plot(t3, y3, 'blueviolet', label=r'OFedIT ($\\mathdefault{p=0.4}$, $\\mathdefault{L=3}$)')\n",
    "plt.plot(t4, y4, 'b-', label=r'OFedIT ($\\mathdefault{p=0.1}$, $\\mathdefault{L=3}$)')\n",
    "\n",
    "plt.ylim([0, 1]) \n",
    "plt.legend(ncol = 1)\n",
    "\n",
    "# naming the x axis\n",
    "plt.xlabel('t')\n",
    "# naming the y axis\n",
    "plt.ylabel('Classification Accuracy')\n",
    " \n",
    "# giving a title to my graph\n",
    " \n",
    "# function to show the plot\n",
    "plt.grid()\n",
    "plt.savefig('./Figures/Comparison_L3.png', dpi=200, facecolor=\"white\")\n",
    "plt.show()\n",
    "\n"
   ]
  },
  {
   "cell_type": "code",
   "execution_count": 9,
   "metadata": {},
   "outputs": [
    {
     "data": {
      "image/png": "[encoded data removed]",
      "text/plain": [
       "<Figure size 432x288 with 1 Axes>"
      ]
     },
     "metadata": {
      "needs_background": "light"
     },
     "output_type": "display_data"
    }
   ],
   "source": [
    "import pickle\n",
    "import matplotlib.pyplot as plt\n",
    "\n",
    "with open(\"./Accuracy_lists/OFedAvg.pkl\",\"rb\") as f:\n",
    "    accuracy_list = pickle.load(f)\n",
    "\n",
    "with open(\"./Accuracy_lists/OFedIT_L10_p1.0.pkl\",\"rb\") as f:\n",
    "    accuracy_list2 = pickle.load(f)\n",
    "\n",
    "with open(\"./Accuracy_lists/OFedIT_L10_p0.4.pkl\",\"rb\") as f:\n",
    "    accuracy_list3 = pickle.load(f)\n",
    "    \n",
    "with open(\"./Accuracy_lists/OFedIT_L10_p0.1.pkl\",\"rb\") as f:\n",
    "    accuracy_list4 = pickle.load(f)\n",
    "\n",
    "    \n",
    "t1 = list(range(len(accuracy_list)))\n",
    "t2 = list(range(len(accuracy_list2)))\n",
    "t3 = list(range(len(accuracy_list3)))\n",
    "t4 = list(range(len(accuracy_list4)))\n",
    "\n",
    "y1 = accuracy_list\n",
    "y2 = accuracy_list2\n",
    "y3 = accuracy_list3\n",
    "y4 = accuracy_list4\n",
    "\n",
    "# plotting the points\n",
    "plt.plot(t1, y1, 'black', label='OFedAvg')\n",
    "plt.plot(t2, y2, 'r-', label=r'OFedIT ($\\mathdefault{p=1}$, $\\mathdefault{L=10}$)')\n",
    "plt.plot(t3, y3, 'blueviolet', label=r'OFedIT ($\\mathdefault{p=0.4}$, $\\mathdefault{L=10}$)')\n",
    "plt.plot(t4, y4, 'b-', label=r'OFedIT ($\\mathdefault{p=0.1}$, $\\mathdefault{L=10}$)')\n",
    "\n",
    "plt.ylim([0, 1]) \n",
    "plt.legend(ncol = 1)\n",
    "\n",
    "# naming the x axis\n",
    "plt.xlabel('t')\n",
    "# naming the y axis\n",
    "plt.ylabel('Classification Accuracy')\n",
    " \n",
    "# giving a title to my graph\n",
    " \n",
    "# function to show the plot\n",
    "plt.grid()\n",
    "plt.savefig('./Figures/Comparison_L10.png', dpi=200, facecolor=\"white\")\n",
    "plt.show()\n",
    "\n"
   ]
  }
 ],
 "metadata": {
  "interpreter": {
   "hash": "31f2aee4e71d21fbe5cf8b01ff0e069b9275f58929596ceb00d14d90e3e16cd6"
  },
  "kernelspec": {
   "display_name": "Python 3.8.9 64-bit",
   "language": "python",
   "name": "python3"
  },
  "language_info": {
   "codemirror_mode": {
    "name": "ipython",
    "version": 3
   },
   "file_extension": ".py",
   "mimetype": "text/x-python",
   "name": "python",
   "nbconvert_exporter": "python",
   "pygments_lexer": "ipython3",
   "version": "3.8.2"
  },
  "orig_nbformat": 4
 },
 "nbformat": 4,
 "nbformat_minor": 2
}
