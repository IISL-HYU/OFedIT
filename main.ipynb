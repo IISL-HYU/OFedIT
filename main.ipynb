{
 "cells": [
  {
   "cell_type": "markdown",
   "metadata": {},
   "source": [
    "## OFedPA"
   ]
  },
  {
   "cell_type": "markdown",
   "metadata": {},
   "source": [
    "#### 1. full participation"
   ]
  },
  {
   "cell_type": "code",
   "execution_count": 29,
   "metadata": {},
   "outputs": [],
   "source": [
    "from tensorflow import keras\n",
    "from keras import datasets\n",
    "#from tensorflow.python.keras impordatasets\n",
    "from numpy import array\n",
    "from numpy.linalg import norm\n",
    "\n",
    "import IISL_FLpkg.model_generator as mg\n",
    "\n",
    "N = 100\n",
    "L = 3\n",
    "\n",
    "sca_metric = keras.metrics.SparseCategoricalAccuracy(name=\"sca\")\n",
    "p_sca_metric = keras.metrics.SparseCategoricalAccuracy(name=\"p_sca\")\n",
    "\n",
    "all_models, central_server = mg.model_generation(N, sca_metric)\n",
    "p_all_models, p_central_server = mg.model_generation(N, p_sca_metric)\n",
    "\n",
    "(x_train, y_train), (x_test, y_test) = datasets.mnist.load_data()\n",
    "x_train = x_train.reshape((60000, 28, 28, 1))\n",
    "x_test = x_test.reshape((10000, 28, 28, 1))\n",
    "x_train, x_test = x_train / 255.0, x_test / 255.0\n",
    "\n",
    "loss_list = []\n",
    "p_loss_list = []\n",
    "\n",
    "accuracy_list = []\n",
    "p_accuracy_list = []\n",
    "\n",
    "gradient_avg = 0\n",
    "\n",
    "\n",
    "for iter in range(3):\n",
    "  for i in range(600):\n",
    "    x = x_train[100*(i):100*(i+1)]\n",
    "    y = y_train[100*(i):100*(i+1)]\n",
    "\n",
    "    results = all_models.fed_avg(x, y, sca_metric, central_server)\n",
    "    loss_list.append(results[0])\n",
    "    accuracy_list.append(results[1])\n",
    "\n",
    "    p_results = p_all_models.pfed_avg(x, y, p_sca_metric, p_central_server, gradient_avg, L, i)\n",
    "    p_loss_list.append(p_results[0])\n",
    "    p_accuracy_list.append(p_results[1])\n",
    "    gradient_avg = p_results[2]\n",
    "\n",
    "    # r_results = r_all_models.rfed_avg(x, y, r_central_server, 0.1)\n",
    "    # r_loss_list.append(r_results[0])\n",
    "    # r_accuracy_list.append(r_results[1])\n",
    "\n",
    "    # rq_results = rq_all_models.rqfed_avg(x, y, rq_central_server, 0.1)\n",
    "    # rq_loss_list.append(rq_results[0])\n",
    "    # rq_accuracy_list.append(rq_results[1])\n",
    "\n",
    "    if(i % 1 == 0):\n",
    "      print(\"iteration : \", iter, \", i : \", i)\n",
    "      print(\"loss : %.7f, sca : %.7f\" %( results[0], results[1]))\n",
    "      print(\"[P]loss : %.7f, sca : %.7f\" %( p_results[0], p_results[1]))\n",
    "    #   print(\"[R]loss : %.7f, sca : %.7f\" %( r_results[0], r_results[1]))\n",
    "    #   print(\"[RQ]loss : %.7f, sca : %.7f\" %( rq_results[0], rq_results[1]))"
   ]
  },
  {
   "cell_type": "markdown",
   "metadata": {},
   "source": [
    "## Result"
   ]
  },
  {
   "cell_type": "code",
   "execution_count": 21,
   "metadata": {},
   "outputs": [
    {
     "data": {
      "image/png": "[encoded data removed]",
      "text/plain": [
       "<Figure size 432x288 with 1 Axes>"
      ]
     },
     "metadata": {
      "needs_background": "light"
     },
     "output_type": "display_data"
    }
   ],
   "source": [
    "import matplotlib.pyplot as plt\n",
    "\n",
    "t1 = list(range(len(accuracy_list)))\n",
    "t2 = list(range(len(p_accuracy_list)))\n",
    "\n",
    "y1 = accuracy_list\n",
    "y2 = p_accuracy_list\n",
    "\n",
    "# plotting the points\n",
    "plt.plot(t1, y1, 'black', label='OFedAvg')\n",
    "plt.plot(t2, y2, 'r-', label=r'FedQOGD ($\\mathdefault{p=0.1}$, $\\mathdefault{s=\\infty}$)')\n",
    "\n",
    "plt.ylim([0, 1]) \n",
    "plt.legend(ncol = 1)\n",
    "\n",
    "# naming the x axis\n",
    "plt.xlabel('t')\n",
    "# naming the y axis\n",
    "plt.ylabel('Classification Accuracy')\n",
    " \n",
    "# giving a title to my graph\n",
    " \n",
    "# function to show the plot\n",
    "plt.grid()\n",
    "plt.show()"
   ]
  },
  {
   "cell_type": "code",
   "execution_count": null,
   "metadata": {},
   "outputs": [],
   "source": []
  }
 ],
 "metadata": {
  "interpreter": {
   "hash": "40d3a090f54c6569ab1632332b64b2c03c39dcf918b08424e98f38b5ae0af88f"
  },
  "kernelspec": {
   "display_name": "Python 3.8.8 64-bit ('base': conda)",
   "language": "python",
   "name": "python3"
  },
  "language_info": {
   "codemirror_mode": {
    "name": "ipython",
    "version": 3
   },
   "file_extension": ".py",
   "mimetype": "text/x-python",
   "name": "python",
   "nbconvert_exporter": "python",
   "pygments_lexer": "ipython3",
   "version": "3.8.8"
  },
  "orig_nbformat": 4
 },
 "nbformat": 4,
 "nbformat_minor": 2
}
